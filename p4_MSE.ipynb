{
 "cells": [
  {
   "cell_type": "markdown",
   "metadata": {},
   "source": [
    "# PREGUNTA 4\n",
    "---\n",
    "## Indicaciones\n",
    "- Describa el procedimiento realizado. \n",
    "- Determine la función de interpolación.\n",
    "- Calcule el error relativo para todos los puntos.\n",
    "- Para el conjunto de errores relativos, determine el mínimo, máximo y promedio. "
   ]
  },
  {
   "cell_type": "code",
   "execution_count": null,
   "metadata": {},
   "outputs": [],
   "source": [
    "# Derivadas parciales para regresión lineal\n",
    "# ####################################################################\n",
    "def der_parcial_1(xs: list, ys: list) -> tuple[float, float, float]:\n",
    "    \"\"\"Retorna los coeficientes de la ecuación de la derivada parcial con respecto al parámetro 1 al reemplazar los valores ``xs`` y ``ys``. La ecuación es de la forma:\n",
    "    c_1 * a_1 + c_0 * a_0 = c_ind\n",
    "\n",
    "\n",
    "    ## Parameters\n",
    "\n",
    "    ``xs``: lista de valores de x.\n",
    "\n",
    "    ``ys``: lista de valores de y.\n",
    "\n",
    "    ## Return\n",
    "\n",
    "    ``c_1``: coeficiente del parámetro 1.\n",
    "\n",
    "    ``c_0``: coeficiente del parámetro 0.\n",
    "\n",
    "    ``c_ind``: coeficiente del término independiente.\n",
    "\n",
    "    \"\"\"\n",
    "    \n",
    "\n",
    "    # coeficiente del término independiente\n",
    "    c_ind = sum(ys)\n",
    "\n",
    "    # coeficiente del parámetro 1\n",
    "    c_1 = sum(xs)\n",
    "\n",
    "    # coeficiente del parámetro 0\n",
    "    c_0 = len(xs)\n",
    "\n",
    "    return (c_1, c_0, c_ind)\n",
    "\n",
    "\n",
    "def der_parcial_0(xs: list, ys: list) -> tuple[float, float, float]:\n",
    "    \"\"\"Retorna los coeficientes de la ecuación de la derivada parcial con respecto al parámetro 0 al reemplazar los valores ``xs`` y ``ys``. La ecuación es de la forma:\n",
    "    c_1 * a_1 + c_0 * a_0 = c_ind\n",
    "\n",
    "\n",
    "    ## Parameters\n",
    "\n",
    "    ``xs``: lista de valores de x.\n",
    "\n",
    "    ``ys``: lista de valores de y.\n",
    "\n",
    "    ## Return\n",
    "\n",
    "    ``c_1``: coeficiente del parámetro 1.\n",
    "\n",
    "    ``c_0``: coeficiente del parámetro 0.\n",
    "\n",
    "    ``c_ind``: coeficiente del término independiente.\n",
    "\n",
    "    \"\"\"\n",
    "    c_1 = 0\n",
    "    c_0 = 0\n",
    "    c_ind = 0\n",
    "    for xi, yi in zip(xs, ys):\n",
    "        # coeficiente del término independiente\n",
    "        c_ind += xi * yi\n",
    "\n",
    "        # coeficiente del parámetro 1\n",
    "        c_1 += xi * xi\n",
    "\n",
    "        # coeficiente del parámetro 0\n",
    "        c_0 += xi\n",
    "\n",
    "    return (c_1, c_0, c_ind)"
   ]
  },
  {
   "cell_type": "code",
   "execution_count": 9,
   "metadata": {},
   "outputs": [],
   "source": [
    "from src import ajustar_min_cuadrados\n",
    "\n",
    "# UTILICE:\n",
    "# ajustar_min_cuadrados()"
   ]
  }
 ],
 "metadata": {
  "kernelspec": {
   "display_name": "Python 3",
   "language": "python",
   "name": "python3"
  },
  "language_info": {
   "codemirror_mode": {
    "name": "ipython",
    "version": 3
   },
   "file_extension": ".py",
   "mimetype": "text/x-python",
   "name": "python",
   "nbconvert_exporter": "python",
   "pygments_lexer": "ipython3",
   "version": "3.13.3"
  }
 },
 "nbformat": 4,
 "nbformat_minor": 2
}

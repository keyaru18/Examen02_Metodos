{
 "cells": [
  {
   "cell_type": "code",
   "execution_count": 1,
   "metadata": {},
   "outputs": [],
   "source": [
    "%load_ext autoreload\n",
    "# %autoreload 2"
   ]
  },
  {
   "cell_type": "code",
   "execution_count": 2,
   "metadata": {},
   "outputs": [
    {
     "name": "stdout",
     "output_type": "stream",
     "text": [
      "[08-07 13:57:59][INFO] DELL| 2025-08-07 13:57:59.332931\n"
     ]
    }
   ],
   "source": [
    "import logging\n",
    "from sys import stdout\n",
    "from datetime import datetime\n",
    "import numpy as np\n",
    "import os\n",
    "\n",
    "logging.basicConfig(\n",
    "    level=logging.INFO,\n",
    "    format=\"[%(asctime)s][%(levelname)s] %(message)s\",\n",
    "    stream=stdout,\n",
    "    datefmt=\"%m-%d %H:%M:%S\",\n",
    ")\n",
    "\n",
    "logging.info(f\"{os.getlogin()}| {datetime.now()}\")"
   ]
  },
  {
   "cell_type": "code",
   "execution_count": 3,
   "metadata": {},
   "outputs": [],
   "source": [
    "# ####################################################################\n",
    "def gauss_jordan(Ab: np.ndarray) -> np.ndarray:\n",
    "    \"\"\"Resuelve un sistema de ecuaciones lineales mediante el método de Gauss-Jordan.\n",
    "\n",
    "    ## Parameters\n",
    "\n",
    "    ``Ab``: matriz aumentada del sistema de ecuaciones lineales. Debe ser de tamaño n-by-(n+1), donde n es el número de incógnitas.\n",
    "\n",
    "    ## Return\n",
    "\n",
    "    ``solucion``: vector con la solución del sistema de ecuaciones lineales.\n",
    "\n",
    "    \"\"\"\n",
    "    if not isinstance(Ab, np.ndarray):\n",
    "        logging.debug(\"Convirtiendo A a numpy array.\")\n",
    "        Ab = np.array(Ab, dtype=float)\n",
    "    assert Ab.shape[0] == Ab.shape[1] - 1, \"La matriz A debe ser de tamaño n-by-(n+1).\"\n",
    "    n = Ab.shape[0]\n",
    "\n",
    "    for i in range(0, n):  # loop por columna\n",
    "\n",
    "        # --- encontrar pivote\n",
    "        p = None  # default, first element\n",
    "        for pi in range(i, n):\n",
    "            if Ab[pi, i] == 0:\n",
    "                # must be nonzero\n",
    "                continue\n",
    "\n",
    "            if p is None:\n",
    "                # first nonzero element\n",
    "                p = pi\n",
    "                continue\n",
    "\n",
    "            if abs(Ab[pi, i]) < abs(Ab[p, i]):\n",
    "                p = pi\n",
    "\n",
    "        if p is None:\n",
    "            # no pivot found.\n",
    "            raise ValueError(\"No existe solución única.\")\n",
    "\n",
    "        if p != i:\n",
    "            # swap rows\n",
    "            logging.debug(f\"Intercambiando filas {i} y {p}\")\n",
    "            _aux = Ab[i, :].copy()\n",
    "            Ab[i, :] = Ab[p, :].copy()\n",
    "            Ab[p, :] = _aux\n",
    "\n",
    "        # --- Eliminación: loop por fila\n",
    "        for j in range(n):\n",
    "            if i == j:\n",
    "                continue\n",
    "            m = Ab[j, i] / Ab[i, i]\n",
    "            Ab[j, i:] = Ab[j, i:] - m * Ab[i, i:]\n",
    "\n",
    "        logging.info(f\"\\n{Ab}\")\n",
    "\n",
    "    if Ab[n - 1, n - 1] == 0:\n",
    "        raise ValueError(\"No existe solución única.\")\n",
    "\n",
    "    # --- Sustitución hacia atrás\n",
    "    solucion = np.zeros(n)\n",
    "\n",
    "    for i in range(n - 1, -1, -1):\n",
    "        solucion[i] = Ab[i, -1] / Ab[i, i]\n",
    "\n",
    "    return solucion"
   ]
  },
  {
   "cell_type": "code",
   "execution_count": 4,
   "metadata": {},
   "outputs": [
    {
     "name": "stdout",
     "output_type": "stream",
     "text": [
      "[08-07 13:57:59][INFO] 2025-08-07 13:57:59.392973\n",
      "[08-07 13:57:59][INFO] DELL| 2025-08-07 13:57:59.399870\n",
      "[08-07 13:57:59][INFO] 2025-08-07 13:57:59.405965\n",
      "[08-07 13:57:59][INFO] DELL| 2025-08-07 13:57:59.413289\n",
      "[08-07 13:57:59][INFO] \n",
      "[[ 1.  2.  3.  4.  1.]\n",
      " [ 0.  1.  0. -1. -4.]\n",
      " [ 0.  0. -1. -3.  0.]\n",
      " [ 0. -1. -3. -6.  0.]]\n",
      "[08-07 13:57:59][INFO] \n",
      "[[ 1.  0.  3.  6.  9.]\n",
      " [ 0.  1.  0. -1. -4.]\n",
      " [ 0.  0. -1. -3.  0.]\n",
      " [ 0.  0. -3. -7. -4.]]\n",
      "[08-07 13:57:59][INFO] \n",
      "[[ 1.  0.  0. -3.  9.]\n",
      " [ 0.  1.  0. -1. -4.]\n",
      " [ 0.  0. -1. -3.  0.]\n",
      " [ 0.  0.  0.  2. -4.]]\n",
      "[08-07 13:57:59][INFO] \n",
      "[[ 1.  0.  0.  0.  3.]\n",
      " [ 0.  1.  0.  0. -6.]\n",
      " [ 0.  0. -1.  0. -6.]\n",
      " [ 0.  0.  0.  2. -4.]]\n"
     ]
    },
    {
     "data": {
      "text/plain": [
       "array([ 3., -6.,  6., -2.])"
      ]
     },
     "execution_count": 4,
     "metadata": {},
     "output_type": "execute_result"
    }
   ],
   "source": [
    "%autoreload 2\n",
    "from src import matriz_aumentada\n",
    "\n",
    "A = [\n",
    "    [1, 2, 3, 4],\n",
    "    [2, 5, 6, 7],\n",
    "    [3, 6, 8, 9],\n",
    "    [4, 7, 9, 10],\n",
    "]\n",
    "b = [1, -2, 3, 4]\n",
    "\n",
    "Ab = matriz_aumentada(A, b)\n",
    "gauss_jordan(Ab)"
   ]
  },
  {
   "cell_type": "markdown",
   "metadata": {},
   "source": [
    "# Resolver"
   ]
  },
  {
   "cell_type": "code",
   "execution_count": 14,
   "metadata": {},
   "outputs": [],
   "source": [
    "import numpy as np\n",
    "\n",
    "def inv_matrix(A: np.ndarray) -> np.ndarray:\n",
    "    \"\"\"Inversión de una matriz cuadrada mediante método de Gauss-Jordan.\"\"\"\n",
    "    n = A.shape[0]\n",
    "    \n",
    "    # Crear matriz aumentada [A | I]\n",
    "    I = np.identity(n)\n",
    "    AI = np.hstack((A.astype(float), I))\n",
    "\n",
    "    # Aplicar Gauss-Jordan para llevar A a identidad\n",
    "    for i in range(n):\n",
    "        # Si el pivote es cero, intercambiar con fila inferior\n",
    "        if AI[i, i] == 0:\n",
    "            for k in range(i + 1, n):\n",
    "                if AI[k, i] != 0:\n",
    "                    AI[[i, k]] = AI[[k, i]]  # Intercambio de filas\n",
    "                    break\n",
    "            else:\n",
    "                raise ValueError(\"La matriz es singular y no tiene inversa.\")\n",
    "        \n",
    "        # Normalizar fila i\n",
    "        AI[i] = AI[i] / AI[i, i]\n",
    "        \n",
    "        # Hacer ceros en las demás filas\n",
    "        for j in range(n):\n",
    "            if j != i:\n",
    "                factor = AI[j, i]\n",
    "                AI[j] = AI[j] - factor * AI[i]\n",
    "    \n",
    "    # Extraer la parte derecha como la inversa\n",
    "    A_inv = AI[:, n:]\n",
    "    return A_inv\n"
   ]
  },
  {
   "cell_type": "markdown",
   "metadata": {},
   "source": [
    "## Ejemplos\n",
    "* Ejemplo 1"
   ]
  },
  {
   "cell_type": "code",
   "execution_count": 18,
   "metadata": {},
   "outputs": [
    {
     "name": "stdout",
     "output_type": "stream",
     "text": [
      "A⁻¹ =\n",
      "[[ 0.5 -0.5 -1.5  1.5]\n",
      " [-0.5  1.5 -1.5  0.5]\n",
      " [-1.5 -1.5  3.5 -1.5]\n",
      " [ 1.5  0.5 -1.5  0.5]]\n"
     ]
    }
   ],
   "source": [
    "import numpy as np\n",
    "\n",
    "A = np.array([\n",
    "    [1, 2, 3, 4],\n",
    "    [2, 5, 6, 7],\n",
    "    [3, 6, 8, 9],\n",
    "    [4, 7, 9, 10]\n",
    "])\n",
    "\n",
    "A_inv = inv_matrix(A)\n",
    "print(\"A⁻¹ =\")\n",
    "print(A_inv)\n"
   ]
  },
  {
   "cell_type": "markdown",
   "metadata": {},
   "source": [
    "* Ejemplo 2"
   ]
  },
  {
   "cell_type": "code",
   "execution_count": 16,
   "metadata": {},
   "outputs": [
    {
     "ename": "AttributeError",
     "evalue": "'list' object has no attribute 'shape'",
     "output_type": "error",
     "traceback": [
      "\u001b[31m---------------------------------------------------------------------------\u001b[39m",
      "\u001b[31mAttributeError\u001b[39m                            Traceback (most recent call last)",
      "\u001b[36mCell\u001b[39m\u001b[36m \u001b[39m\u001b[32mIn[16]\u001b[39m\u001b[32m, line 13\u001b[39m\n\u001b[32m      2\u001b[39m A = [\n\u001b[32m      3\u001b[39m     [\u001b[32m4\u001b[39m, \u001b[32m4\u001b[39m, \u001b[32m5\u001b[39m, \u001b[32m1\u001b[39m],\n\u001b[32m      4\u001b[39m     [\u001b[32m3\u001b[39m, \u001b[32m4\u001b[39m, \u001b[32m2\u001b[39m, \u001b[32m2\u001b[39m],\n\u001b[32m      5\u001b[39m     [\u001b[32m2\u001b[39m, \u001b[32m1\u001b[39m, \u001b[32m4\u001b[39m, \u001b[32m1\u001b[39m],\n\u001b[32m      6\u001b[39m     [\u001b[32m3\u001b[39m, \u001b[32m2\u001b[39m, \u001b[32m5\u001b[39m, \u001b[32m4\u001b[39m],\n\u001b[32m      7\u001b[39m ]\n\u001b[32m      8\u001b[39m \u001b[38;5;66;03m# tiene como inversa\u001b[39;00m\n\u001b[32m      9\u001b[39m \u001b[38;5;66;03m# A_inv =[[-34.,  31.,  52., -20.],\u001b[39;00m\n\u001b[32m     10\u001b[39m \u001b[38;5;66;03m#         [ 19., -17., -29.,  11.],\u001b[39;00m\n\u001b[32m     11\u001b[39m \u001b[38;5;66;03m#         [ 12., -11., -18.,   7.],\u001b[39;00m\n\u001b[32m     12\u001b[39m \u001b[38;5;66;03m#         [  1.,  -1.,  -2.,   1.]]\u001b[39;00m\n\u001b[32m---> \u001b[39m\u001b[32m13\u001b[39m \u001b[43minv_matrix\u001b[49m\u001b[43m(\u001b[49m\u001b[43mA\u001b[49m\u001b[43m)\u001b[49m\n",
      "\u001b[36mCell\u001b[39m\u001b[36m \u001b[39m\u001b[32mIn[14]\u001b[39m\u001b[32m, line 5\u001b[39m, in \u001b[36minv_matrix\u001b[39m\u001b[34m(A)\u001b[39m\n\u001b[32m      3\u001b[39m \u001b[38;5;28;01mdef\u001b[39;00m\u001b[38;5;250m \u001b[39m\u001b[34minv_matrix\u001b[39m(A: np.ndarray) -> np.ndarray:\n\u001b[32m      4\u001b[39m \u001b[38;5;250m    \u001b[39m\u001b[33;03m\"\"\"Inversión de una matriz cuadrada mediante método de Gauss-Jordan.\"\"\"\u001b[39;00m\n\u001b[32m----> \u001b[39m\u001b[32m5\u001b[39m     n = \u001b[43mA\u001b[49m\u001b[43m.\u001b[49m\u001b[43mshape\u001b[49m[\u001b[32m0\u001b[39m]\n\u001b[32m      7\u001b[39m     \u001b[38;5;66;03m# Crear matriz aumentada [A | I]\u001b[39;00m\n\u001b[32m      8\u001b[39m     I = np.identity(n)\n",
      "\u001b[31mAttributeError\u001b[39m: 'list' object has no attribute 'shape'"
     ]
    }
   ],
   "source": [
    "# La matriz A =\n",
    "A = [\n",
    "    [4, 4, 5, 1],\n",
    "    [3, 4, 2, 2],\n",
    "    [2, 1, 4, 1],\n",
    "    [3, 2, 5, 4],\n",
    "]\n",
    "# tiene como inversa\n",
    "# A_inv =[[-34.,  31.,  52., -20.],\n",
    "#         [ 19., -17., -29.,  11.],\n",
    "#         [ 12., -11., -18.,   7.],\n",
    "#         [  1.,  -1.,  -2.,   1.]]\n",
    "inv_matrix(A)"
   ]
  },
  {
   "cell_type": "markdown",
   "metadata": {},
   "source": [
    "## Ejercicios"
   ]
  },
  {
   "cell_type": "markdown",
   "metadata": {},
   "source": [
    "* Ejercicio 1"
   ]
  },
  {
   "cell_type": "code",
   "execution_count": 21,
   "metadata": {},
   "outputs": [
    {
     "ename": "AttributeError",
     "evalue": "'list' object has no attribute 'shape'",
     "output_type": "error",
     "traceback": [
      "\u001b[31m---------------------------------------------------------------------------\u001b[39m",
      "\u001b[31mAttributeError\u001b[39m                            Traceback (most recent call last)",
      "\u001b[36mCell\u001b[39m\u001b[36m \u001b[39m\u001b[32mIn[21]\u001b[39m\u001b[32m, line 4\u001b[39m\n\u001b[32m      1\u001b[39m \u001b[38;5;28;01mimport\u001b[39;00m\u001b[38;5;250m \u001b[39m\u001b[34;01mnumpy\u001b[39;00m\u001b[38;5;250m \u001b[39m\u001b[38;5;28;01mas\u001b[39;00m\u001b[38;5;250m \u001b[39m\u001b[34;01mnp\u001b[39;00m\n\u001b[32m      3\u001b[39m A = [[\u001b[32m2\u001b[39m, -\u001b[32m3\u001b[39m], [-\u001b[32m1\u001b[39m, \u001b[32m1\u001b[39m]]\n\u001b[32m----> \u001b[39m\u001b[32m4\u001b[39m A_inv = \u001b[43minv_matrix\u001b[49m\u001b[43m(\u001b[49m\u001b[43mA\u001b[49m\u001b[43m)\u001b[49m\n\u001b[32m      5\u001b[39m \u001b[38;5;28mprint\u001b[39m(\u001b[33m\"\u001b[39m\u001b[33mA⁻¹ =\u001b[39m\u001b[33m\"\u001b[39m)\n\u001b[32m      6\u001b[39m \u001b[38;5;28mprint\u001b[39m(A_inv)\n",
      "\u001b[36mCell\u001b[39m\u001b[36m \u001b[39m\u001b[32mIn[14]\u001b[39m\u001b[32m, line 5\u001b[39m, in \u001b[36minv_matrix\u001b[39m\u001b[34m(A)\u001b[39m\n\u001b[32m      3\u001b[39m \u001b[38;5;28;01mdef\u001b[39;00m\u001b[38;5;250m \u001b[39m\u001b[34minv_matrix\u001b[39m(A: np.ndarray) -> np.ndarray:\n\u001b[32m      4\u001b[39m \u001b[38;5;250m    \u001b[39m\u001b[33;03m\"\"\"Inversión de una matriz cuadrada mediante método de Gauss-Jordan.\"\"\"\u001b[39;00m\n\u001b[32m----> \u001b[39m\u001b[32m5\u001b[39m     n = \u001b[43mA\u001b[49m\u001b[43m.\u001b[49m\u001b[43mshape\u001b[49m[\u001b[32m0\u001b[39m]\n\u001b[32m      7\u001b[39m     \u001b[38;5;66;03m# Crear matriz aumentada [A | I]\u001b[39;00m\n\u001b[32m      8\u001b[39m     I = np.identity(n)\n",
      "\u001b[31mAttributeError\u001b[39m: 'list' object has no attribute 'shape'"
     ]
    }
   ],
   "source": [
    "import numpy as np\n",
    "\n",
    "A = [[2, -3], [-1, 1]]\n",
    "A_inv = inv_matrix(A)\n",
    "print(\"A⁻¹ =\")\n",
    "print(A_inv)\n"
   ]
  },
  {
   "cell_type": "markdown",
   "metadata": {},
   "source": [
    "* Ejercicio 2"
   ]
  },
  {
   "cell_type": "code",
   "execution_count": 9,
   "metadata": {},
   "outputs": [],
   "source": [
    "A = [\n",
    "    [4, 0, 0, 5],\n",
    "    [1, 0, 4, 0],\n",
    "    [3, 4, 1, 3],\n",
    "    [1, 3, 3, 0],\n",
    "]\n",
    "inv_matrix(A)"
   ]
  },
  {
   "cell_type": "markdown",
   "metadata": {},
   "source": [
    "* Ejercicio 3"
   ]
  },
  {
   "cell_type": "code",
   "execution_count": 10,
   "metadata": {},
   "outputs": [],
   "source": [
    "A = [\n",
    "    [0, 0, 0, 0, 0, 0, 1, -1],\n",
    "    [0, 1, -1, 1, 0, -1, 0, 1],\n",
    "    [-1, -1, 0, 0, 2, 1, 0, 0],\n",
    "    [-1, -1, -1, 1, 2, 0, 0, 1],\n",
    "    [-1, 1, 1, 0, -1, -1, 0, 2],\n",
    "    [0, 1, 0, 0, -1, -1, 0, 0],\n",
    "    [1, -1, -1, 1, 2, 1, 0, 2],\n",
    "    [2, 0, 0, 0, 0, 1, 2, 0],\n",
    "]\n",
    "inv_matrix(A)"
   ]
  },
  {
   "cell_type": "markdown",
   "metadata": {},
   "source": [
    "* Ejercicio 4"
   ]
  },
  {
   "cell_type": "code",
   "execution_count": 11,
   "metadata": {},
   "outputs": [],
   "source": [
    "A = [\n",
    "    [1, 0, 0, 0, -1, 0, 0, -1, 1, -1],\n",
    "    [1, 1, 0, -1, -1, 1, 0, 0, 1, -1],\n",
    "    [-1, 0, -1, 0, 0, 0, -1, 1, 0, 0],\n",
    "    [0, 0, -1, 0, -1, -1, 1, 0, 1, 0],\n",
    "    [-1, 0, 0, -1, 1, 1, 1, 1, 0, -1],\n",
    "    [1, 0, 0, 1, -1, -1, -1, 1, -1, 0],\n",
    "    [1, 1, 1, 0, 1, 0, -1, -1, -1, 1],\n",
    "    [1, 1, 1, 1, 0, 0, 1, 1, 0, 0],\n",
    "    [1, 1, 1, 1, 1, 0, -1, -1, 0, 0],\n",
    "    [0, 0, -1, -1, -1, 0, 1, 1, 1, -1],\n",
    "]\n",
    "inv_matrix(A)"
   ]
  }
 ],
 "metadata": {
  "kernelspec": {
   "display_name": "Python 3",
   "language": "python",
   "name": "python3"
  },
  "language_info": {
   "codemirror_mode": {
    "name": "ipython",
    "version": 3
   },
   "file_extension": ".py",
   "mimetype": "text/x-python",
   "name": "python",
   "nbconvert_exporter": "python",
   "pygments_lexer": "ipython3",
   "version": "3.13.3"
  }
 },
 "nbformat": 4,
 "nbformat_minor": 2
}
